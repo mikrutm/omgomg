{
 "cells": [
  {
   "cell_type": "code",
   "execution_count": 18,
   "metadata": {},
   "outputs": [],
   "source": [
    "import pandas as pd\n",
    "df = pd.read_csv(\"Twitter_trends(11).csv\")"
   ]
  },
  {
   "cell_type": "code",
   "execution_count": 20,
   "metadata": {},
   "outputs": [
    {
     "data": {
      "text/html": [
       "<div>\n",
       "<style scoped>\n",
       "    .dataframe tbody tr th:only-of-type {\n",
       "        vertical-align: middle;\n",
       "    }\n",
       "\n",
       "    .dataframe tbody tr th {\n",
       "        vertical-align: top;\n",
       "    }\n",
       "\n",
       "    .dataframe thead th {\n",
       "        text-align: right;\n",
       "    }\n",
       "</style>\n",
       "<table border=\"1\" class=\"dataframe\">\n",
       "  <thead>\n",
       "    <tr style=\"text-align: right;\">\n",
       "      <th></th>\n",
       "      <th>Date</th>\n",
       "      <th>Inverted Position</th>\n",
       "      <th>Trend</th>\n",
       "      <th>Inverted Position</th>\n",
       "    </tr>\n",
       "  </thead>\n",
       "  <tbody>\n",
       "    <tr>\n",
       "      <th>5195</th>\n",
       "      <td>2023-10-19</td>\n",
       "      <td>5.0</td>\n",
       "      <td>Mazurka</td>\n",
       "      <td>NaN</td>\n",
       "    </tr>\n",
       "    <tr>\n",
       "      <th>5243</th>\n",
       "      <td>2023-10-19</td>\n",
       "      <td>7.0</td>\n",
       "      <td>Mazurka</td>\n",
       "      <td>NaN</td>\n",
       "    </tr>\n",
       "    <tr>\n",
       "      <th>5292</th>\n",
       "      <td>2023-10-19</td>\n",
       "      <td>8.0</td>\n",
       "      <td>Mazurka</td>\n",
       "      <td>NaN</td>\n",
       "    </tr>\n",
       "    <tr>\n",
       "      <th>5344</th>\n",
       "      <td>2023-10-19</td>\n",
       "      <td>6.0</td>\n",
       "      <td>Mazurka</td>\n",
       "      <td>NaN</td>\n",
       "    </tr>\n",
       "    <tr>\n",
       "      <th>5393</th>\n",
       "      <td>2023-10-19</td>\n",
       "      <td>7.0</td>\n",
       "      <td>Mazurka</td>\n",
       "      <td>NaN</td>\n",
       "    </tr>\n",
       "    <tr>\n",
       "      <th>6488</th>\n",
       "      <td>2023-10-18</td>\n",
       "      <td>12.0</td>\n",
       "      <td>Mazurek</td>\n",
       "      <td>NaN</td>\n",
       "    </tr>\n",
       "    <tr>\n",
       "      <th>6539</th>\n",
       "      <td>2023-10-18</td>\n",
       "      <td>11.0</td>\n",
       "      <td>Mazurek</td>\n",
       "      <td>NaN</td>\n",
       "    </tr>\n",
       "    <tr>\n",
       "      <th>6645</th>\n",
       "      <td>2023-10-18</td>\n",
       "      <td>5.0</td>\n",
       "      <td>Mazurek</td>\n",
       "      <td>NaN</td>\n",
       "    </tr>\n",
       "    <tr>\n",
       "      <th>21756</th>\n",
       "      <td>2023-10-05</td>\n",
       "      <td>12.0</td>\n",
       "      <td>Mazurek</td>\n",
       "      <td>NaN</td>\n",
       "    </tr>\n",
       "  </tbody>\n",
       "</table>\n",
       "</div>"
      ],
      "text/plain": [
       "             Date  Inverted Position    Trend   Inverted Position\n",
       "5195   2023-10-19                5.0  Mazurka                 NaN\n",
       "5243   2023-10-19                7.0  Mazurka                 NaN\n",
       "5292   2023-10-19                8.0  Mazurka                 NaN\n",
       "5344   2023-10-19                6.0  Mazurka                 NaN\n",
       "5393   2023-10-19                7.0  Mazurka                 NaN\n",
       "6488   2023-10-18               12.0  Mazurek                 NaN\n",
       "6539   2023-10-18               11.0  Mazurek                 NaN\n",
       "6645   2023-10-18                5.0  Mazurek                 NaN\n",
       "21756  2023-10-05               12.0  Mazurek                 NaN"
      ]
     },
     "execution_count": 20,
     "metadata": {},
     "output_type": "execute_result"
    }
   ],
   "source": [
    "#df = df.loc[df['Trend'] in [\"Mazurek\", \"Legia\"]] \n",
    "df_g = df[df['Trend'].isin([\"Mazurek\", \"Mazurka\"])]\n",
    "df_g"
   ]
  },
  {
   "cell_type": "code",
   "execution_count": 21,
   "metadata": {},
   "outputs": [
    {
     "data": {
      "text/plain": [
       "Date\n",
       "2023-10-05    12.0\n",
       "2023-10-18    28.0\n",
       "2023-10-19    33.0\n",
       "Name: Inverted Position, dtype: float64"
      ]
     },
     "execution_count": 21,
     "metadata": {},
     "output_type": "execute_result"
    }
   ],
   "source": [
    "df_g['Inverted Position'].groupby(df_g['Date']).sum()"
   ]
  },
  {
   "cell_type": "markdown",
   "metadata": {},
   "source": []
  },
  {
   "cell_type": "code",
   "execution_count": 35,
   "metadata": {},
   "outputs": [
    {
     "name": "stdout",
     "output_type": "stream",
     "text": [
      "         Date\n",
      "0  2023-11-02\n",
      "1  2023-11-03\n",
      "2  2023-11-04\n",
      "3  2023-11-05\n",
      "4  2023-11-06\n",
      "5  2023-11-07\n",
      "6  2023-11-08\n",
      "7  2023-11-09\n",
      "8  2023-11-10\n"
     ]
    }
   ],
   "source": [
    "import pandas as pd\n",
    "\n",
    "def generate_updated_dataframe(start_date, end_date, df2):\n",
    "    date_range = pd.date_range(start=start_date, end=end_date).strftime('%Y-%m-%d')\n",
    "    data = {'Date': date_range}\n",
    "    df = pd.DataFrame(data)\n",
    "    merged_df = df.merge(df2, on='Date', how='left')\n",
    "    merged_df['Inverted Position'] = merged_df['Inverted Position'].fillna(0)\n",
    "    merged_df = merged_df.drop('Inverted Position', axis=1)\n",
    "    return merged_df\n",
    "\n",
    "# Example usage:\n",
    "start_date = '2023-11-02'\n",
    "end_date = '2023-11-10'\n",
    "data2 = {'Date': ['2023-11-03', '2023-11-05'],\n",
    "         'Inverted Position': [10, 20]}\n",
    "df2 = pd.DataFrame(data2)\n",
    "\n",
    "result_df = generate_updated_dataframe(start_date, end_date, df2)\n",
    "print(result_df)\n"
   ]
  },
  {
   "cell_type": "code",
   "execution_count": 40,
   "metadata": {},
   "outputs": [
    {
     "name": "stdout",
     "output_type": "stream",
     "text": [
      "         Date  Inverted Position\n",
      "0  2023-11-02                0.0\n",
      "1  2023-11-03               10.0\n",
      "2  2023-11-04                0.0\n",
      "3  2023-11-05               20.0\n",
      "4  2023-11-06                0.0\n",
      "5  2023-11-07                0.0\n",
      "6  2023-11-08                0.0\n",
      "7  2023-11-09                0.0\n",
      "8  2023-11-10                0.0\n"
     ]
    }
   ],
   "source": [
    "import pandas as pd\n",
    "\n",
    "def generate_updated_dataframe(start_date, end_date, df2):\n",
    "    date_range = pd.date_range(start=start_date, end=end_date).strftime('%Y-%m-%d')\n",
    "    data = {'Date': date_range, 'Inverted Position': [0] * len(date_range)}\n",
    "    df = pd.DataFrame(data)\n",
    "    merged_df = df.merge(df2, on='Date', how='left')\n",
    "    merged_df['Inverted Position_x'].fillna(0, inplace=True)\n",
    "    merged_df['Inverted Position_y'] = merged_df['Inverted Position_y'].fillna(0)\n",
    "    merged_df['Inverted Position'] = merged_df['Inverted Position_x'] + merged_df['Inverted Position_y']\n",
    "    merged_df = merged_df.drop(['Inverted Position_x', 'Inverted Position_y'], axis=1)\n",
    "    return merged_df\n",
    "\n",
    "# Example usage:\n",
    "start_date = '2023-11-02'\n",
    "end_date = '2023-11-10'\n",
    "data2 = {'Date': ['2023-11-03', '2023-11-05'],\n",
    "         'Inverted Position': [10, 20]}\n",
    "df2 = pd.DataFrame(data2)\n",
    "\n",
    "result_df = generate_updated_dataframe(start_date, end_date, df2)\n",
    "print(result_df)\n"
   ]
  },
  {
   "cell_type": "code",
   "execution_count": 49,
   "metadata": {},
   "outputs": [
    {
     "name": "stdout",
     "output_type": "stream",
     "text": [
      "                   Date  Inverted Position     0\n",
      "0            2023-11-02                0.0   NaN\n",
      "1            2023-11-03                0.0   NaN\n",
      "2            2023-11-04                0.0   NaN\n",
      "3            2023-11-05                0.0   NaN\n",
      "4            2023-11-06                0.0   NaN\n",
      "5            2023-11-07                0.0   NaN\n",
      "6            2023-11-08                0.0   NaN\n",
      "7            2023-11-09                0.0   NaN\n",
      "8            2023-11-10                0.0   NaN\n",
      "9   2023-11-03 00:00:00                0.0  10.0\n",
      "10  2023-11-05 00:00:00                0.0  20.0\n"
     ]
    }
   ],
   "source": [
    "import pandas as pd\n",
    "\n",
    "def generate_updated_dataframe(start_date, end_date, df2):\n",
    "    date_range = pd.date_range(start=start_date, end=end_date).strftime('%Y-%m-%d')\n",
    "    data = {'Date': date_range, 'Inverted Position': [0] * len(date_range)}\n",
    "    df = pd.DataFrame(data)\n",
    "    \n",
    "    df2 = df2.rename_axis('Date').reset_index()\n",
    "    \n",
    "    merged_df = pd.concat([df, df2], ignore_index=True)\n",
    "    merged_df['Inverted Position'].fillna(0, inplace=True)\n",
    "    \n",
    "    return merged_df\n",
    "\n",
    "# Example usage:\n",
    "start_date = '2023-11-02'\n",
    "end_date = '2023-11-10'\n",
    "data2 = pd.Series([10, 20], index=pd.to_datetime(['2023-11-03', '2023-11-05']))\n",
    "result_df = generate_updated_dataframe(start_date, end_date, data2)\n",
    "print(result_df)\n"
   ]
  }
 ],
 "metadata": {
  "kernelspec": {
   "display_name": "Python 3",
   "language": "python",
   "name": "python3"
  },
  "language_info": {
   "codemirror_mode": {
    "name": "ipython",
    "version": 3
   },
   "file_extension": ".py",
   "mimetype": "text/x-python",
   "name": "python",
   "nbconvert_exporter": "python",
   "pygments_lexer": "ipython3",
   "version": "3.10.12"
  }
 },
 "nbformat": 4,
 "nbformat_minor": 2
}
